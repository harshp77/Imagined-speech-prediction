{
 "cells": [
  {
   "cell_type": "code",
   "execution_count": null,
   "metadata": {
    "id": "zwiRltVpr4VL"
   },
   "outputs": [],
   "source": [
    "# !pip install wandb\n",
    "# import wandb\n",
    "# %reload_ext tensorboard\n",
    "# !rm -rf ./logs/ \n",
    "# wandb.login()"
   ]
  },
  {
   "cell_type": "code",
   "execution_count": null,
   "metadata": {
    "colab": {
     "base_uri": "https://localhost:8080/",
     "height": 110
    },
    "id": "63rtaL4ZsZ2P",
    "outputId": "99d39844-20fd-4156-ddda-feb46732730f"
   },
   "outputs": [
    {
     "name": "stderr",
     "output_type": "stream",
     "text": [
      "\u001b[34m\u001b[1mwandb\u001b[0m: Currently logged in as: \u001b[33mharshp77\u001b[0m (\u001b[33mrtx\u001b[0m). Use \u001b[1m`wandb login --relogin`\u001b[0m to force relogin\n"
     ]
    },
    {
     "data": {
      "text/html": [
       "Tracking run with wandb version 0.12.17"
      ],
      "text/plain": [
       "<IPython.core.display.HTML object>"
      ]
     },
     "metadata": {},
     "output_type": "display_data"
    },
    {
     "data": {
      "text/html": [
       "Run data is saved locally in <code>/content/wandb/run-20220601_143725-m9tij9se</code>"
      ],
      "text/plain": [
       "<IPython.core.display.HTML object>"
      ]
     },
     "metadata": {},
     "output_type": "display_data"
    },
    {
     "data": {
      "text/html": [
       "Syncing run <strong><a href=\"https://wandb.ai/rtx/MLA%20project/runs/m9tij9se\" target=\"_blank\">whole-universe-1</a></strong> to <a href=\"https://wandb.ai/rtx/MLA%20project\" target=\"_blank\">Weights & Biases</a> (<a href=\"https://wandb.me/run\" target=\"_blank\">docs</a>)<br/>"
      ],
      "text/plain": [
       "<IPython.core.display.HTML object>"
      ]
     },
     "metadata": {},
     "output_type": "display_data"
    },
    {
     "data": {
      "text/html": [
       "<button onClick=\"this.nextSibling.style.display='block';this.style.display='none';\">Display W&B run</button><iframe src=\"https://wandb.ai/rtx/MLA%20project/runs/m9tij9se?jupyter=true\" style=\"border:none;width:100%;height:420px;display:none;\"></iframe>"
      ],
      "text/plain": [
       "<wandb.sdk.wandb_run.Run at 0x7fc32c7b32d0>"
      ]
     },
     "execution_count": 4,
     "metadata": {},
     "output_type": "execute_result"
    }
   ],
   "source": [
    "# wandb.init(project=\"MLA project\")"
   ]
  },
  {
   "cell_type": "code",
   "execution_count": null,
   "metadata": {
    "id": "ENeRXtdDsyfI"
   },
   "outputs": [],
   "source": [
    "from tensorflow.keras.preprocessing.image import ImageDataGenerator\n",
    "from tensorflow.keras.models import Sequential\n",
    "from tensorflow.keras.layers import Dense , Dropout , Activation , Flatten , Conv2D , MaxPooling2D , ZeroPadding2D , BatchNormalization \n",
    "from tensorflow.keras.regularizers import l2\n",
    "from tensorflow.keras.utils import to_categorical\n",
    "from tensorflow.keras.models import Model\n",
    "from tensorflow.keras.optimizers import Adadelta , Adam \n",
    "from tensorflow.keras.preprocessing import image\n",
    "from tensorflow.keras.applications.vgg19 import VGG19\n",
    "from tensorflow.keras.applications.vgg19 import preprocess_input\n",
    "import seaborn as sns\n",
    "import tensorboard\n",
    "import datetime\n",
    "import cv2\n",
    "import numpy as np\n",
    "import pandas as pd\n",
    "import os\n",
    "from os import listdir\n",
    "from os.path import isfile, join\n",
    "import matplotlib.pyplot as plt"
   ]
  },
  {
   "cell_type": "code",
   "execution_count": null,
   "metadata": {
    "colab": {
     "base_uri": "https://localhost:8080/"
    },
    "id": "lWZdiRDxs8oX",
    "outputId": "a7e3128b-b80e-412d-dd4d-e4648479a4f6"
   },
   "outputs": [
    {
     "name": "stdout",
     "output_type": "stream",
     "text": [
      "Archive:  /content/drive/MyDrive/MLA/bin_val_ae.zip\n",
      "   creating: /content/drive/MyDrive/MLA/bin_val_ae/test/\n",
      "   creating: /content/drive/MyDrive/MLA/bin_val_ae/test/a/\n",
      "  inflating: /content/drive/MyDrive/MLA/bin_val_ae/test/a/S01 attempt 39.jpeg  \n",
      "  inflating: /content/drive/MyDrive/MLA/bin_val_ae/test/a/S01 attempt 40.jpeg  \n",
      "  inflating: /content/drive/MyDrive/MLA/bin_val_ae/test/a/S01 attempt 41.jpeg  \n",
      "  inflating: /content/drive/MyDrive/MLA/bin_val_ae/test/a/S01 attempt 42.jpeg  \n",
      "  inflating: /content/drive/MyDrive/MLA/bin_val_ae/test/a/S01 attempt 43.jpeg  \n",
      "  inflating: /content/drive/MyDrive/MLA/bin_val_ae/test/a/S01 attempt 44.jpeg  \n",
      "  inflating: /content/drive/MyDrive/MLA/bin_val_ae/test/a/S01 attempt 45.jpeg  \n",
      "  inflating: /content/drive/MyDrive/MLA/bin_val_ae/test/a/S01 attempt 46.jpeg  \n",
      "  inflating: /content/drive/MyDrive/MLA/bin_val_ae/test/a/S01 attempt 47.jpeg  \n",
      "  inflating: /content/drive/MyDrive/MLA/bin_val_ae/test/a/S01 attempt 48.jpeg  \n",
      "  inflating: /content/drive/MyDrive/MLA/bin_val_ae/test/a/S01 attempt 49.jpeg  \n",
      "   creating: /content/drive/MyDrive/MLA/bin_val_ae/test/e/\n",
      "  inflating: /content/drive/MyDrive/MLA/bin_val_ae/test/e/S01 attempt 108.jpeg  \n",
      "  inflating: /content/drive/MyDrive/MLA/bin_val_ae/test/e/S01 attempt 109.jpeg  \n",
      "  inflating: /content/drive/MyDrive/MLA/bin_val_ae/test/e/S01 attempt 110.jpeg  \n",
      "  inflating: /content/drive/MyDrive/MLA/bin_val_ae/test/e/S01 attempt 111.jpeg  \n",
      "  inflating: /content/drive/MyDrive/MLA/bin_val_ae/test/e/S01 attempt 112.jpeg  \n",
      "  inflating: /content/drive/MyDrive/MLA/bin_val_ae/test/e/S01 attempt 113.jpeg  \n",
      "  inflating: /content/drive/MyDrive/MLA/bin_val_ae/test/e/S01 attempt 114.jpeg  \n",
      "  inflating: /content/drive/MyDrive/MLA/bin_val_ae/test/e/S01 attempt 115.jpeg  \n",
      "  inflating: /content/drive/MyDrive/MLA/bin_val_ae/test/e/S01 attempt 116.jpeg  \n",
      "  inflating: /content/drive/MyDrive/MLA/bin_val_ae/test/e/S01 attempt 117.jpeg  \n",
      "   creating: /content/drive/MyDrive/MLA/bin_val_ae/train/\n",
      "   creating: /content/drive/MyDrive/MLA/bin_val_ae/train/a/\n",
      "  inflating: /content/drive/MyDrive/MLA/bin_val_ae/train/a/S01 attempt 0.jpeg  \n",
      "  inflating: /content/drive/MyDrive/MLA/bin_val_ae/train/a/S01 attempt 1.jpeg  \n",
      "  inflating: /content/drive/MyDrive/MLA/bin_val_ae/train/a/S01 attempt 10.jpeg  \n",
      "  inflating: /content/drive/MyDrive/MLA/bin_val_ae/train/a/S01 attempt 11.jpeg  \n",
      "  inflating: /content/drive/MyDrive/MLA/bin_val_ae/train/a/S01 attempt 12.jpeg  \n",
      "  inflating: /content/drive/MyDrive/MLA/bin_val_ae/train/a/S01 attempt 13.jpeg  \n",
      "  inflating: /content/drive/MyDrive/MLA/bin_val_ae/train/a/S01 attempt 14.jpeg  \n",
      "  inflating: /content/drive/MyDrive/MLA/bin_val_ae/train/a/S01 attempt 15.jpeg  \n",
      "  inflating: /content/drive/MyDrive/MLA/bin_val_ae/train/a/S01 attempt 16.jpeg  \n",
      "  inflating: /content/drive/MyDrive/MLA/bin_val_ae/train/a/S01 attempt 17.jpeg  \n",
      "  inflating: /content/drive/MyDrive/MLA/bin_val_ae/train/a/S01 attempt 18.jpeg  \n",
      "  inflating: /content/drive/MyDrive/MLA/bin_val_ae/train/a/S01 attempt 19.jpeg  \n",
      "  inflating: /content/drive/MyDrive/MLA/bin_val_ae/train/a/S01 attempt 2.jpeg  \n",
      "  inflating: /content/drive/MyDrive/MLA/bin_val_ae/train/a/S01 attempt 20.jpeg  \n",
      "  inflating: /content/drive/MyDrive/MLA/bin_val_ae/train/a/S01 attempt 21.jpeg  \n",
      "  inflating: /content/drive/MyDrive/MLA/bin_val_ae/train/a/S01 attempt 22.jpeg  \n",
      "  inflating: /content/drive/MyDrive/MLA/bin_val_ae/train/a/S01 attempt 23.jpeg  \n",
      "  inflating: /content/drive/MyDrive/MLA/bin_val_ae/train/a/S01 attempt 24.jpeg  \n",
      "  inflating: /content/drive/MyDrive/MLA/bin_val_ae/train/a/S01 attempt 25.jpeg  \n",
      "  inflating: /content/drive/MyDrive/MLA/bin_val_ae/train/a/S01 attempt 26.jpeg  \n",
      "  inflating: /content/drive/MyDrive/MLA/bin_val_ae/train/a/S01 attempt 27.jpeg  \n",
      "  inflating: /content/drive/MyDrive/MLA/bin_val_ae/train/a/S01 attempt 28.jpeg  \n",
      "  inflating: /content/drive/MyDrive/MLA/bin_val_ae/train/a/S01 attempt 29.jpeg  \n",
      "  inflating: /content/drive/MyDrive/MLA/bin_val_ae/train/a/S01 attempt 3.jpeg  \n",
      "  inflating: /content/drive/MyDrive/MLA/bin_val_ae/train/a/S01 attempt 30.jpeg  \n",
      "  inflating: /content/drive/MyDrive/MLA/bin_val_ae/train/a/S01 attempt 31.jpeg  \n",
      "  inflating: /content/drive/MyDrive/MLA/bin_val_ae/train/a/S01 attempt 32.jpeg  \n",
      "  inflating: /content/drive/MyDrive/MLA/bin_val_ae/train/a/S01 attempt 33.jpeg  \n",
      "  inflating: /content/drive/MyDrive/MLA/bin_val_ae/train/a/S01 attempt 34.jpeg  \n",
      "  inflating: /content/drive/MyDrive/MLA/bin_val_ae/train/a/S01 attempt 35.jpeg  \n",
      "  inflating: /content/drive/MyDrive/MLA/bin_val_ae/train/a/S01 attempt 36.jpeg  \n",
      "  inflating: /content/drive/MyDrive/MLA/bin_val_ae/train/a/S01 attempt 37.jpeg  \n",
      "  inflating: /content/drive/MyDrive/MLA/bin_val_ae/train/a/S01 attempt 38.jpeg  \n",
      "  inflating: /content/drive/MyDrive/MLA/bin_val_ae/train/a/S01 attempt 4.jpeg  \n",
      "  inflating: /content/drive/MyDrive/MLA/bin_val_ae/train/a/S01 attempt 5.jpeg  \n",
      "  inflating: /content/drive/MyDrive/MLA/bin_val_ae/train/a/S01 attempt 6.jpeg  \n",
      "  inflating: /content/drive/MyDrive/MLA/bin_val_ae/train/a/S01 attempt 7.jpeg  \n",
      "  inflating: /content/drive/MyDrive/MLA/bin_val_ae/train/a/S01 attempt 8.jpeg  \n",
      "  inflating: /content/drive/MyDrive/MLA/bin_val_ae/train/a/S01 attempt 9.jpeg  \n",
      "   creating: /content/drive/MyDrive/MLA/bin_val_ae/train/e/\n",
      "  inflating: /content/drive/MyDrive/MLA/bin_val_ae/train/e/S01 attempt 100.jpeg  \n",
      "  inflating: /content/drive/MyDrive/MLA/bin_val_ae/train/e/S01 attempt 101.jpeg  \n",
      "  inflating: /content/drive/MyDrive/MLA/bin_val_ae/train/e/S01 attempt 102.jpeg  \n",
      "  inflating: /content/drive/MyDrive/MLA/bin_val_ae/train/e/S01 attempt 103.jpeg  \n",
      "  inflating: /content/drive/MyDrive/MLA/bin_val_ae/train/e/S01 attempt 104.jpeg  \n",
      "  inflating: /content/drive/MyDrive/MLA/bin_val_ae/train/e/S01 attempt 105.jpeg  \n",
      "  inflating: /content/drive/MyDrive/MLA/bin_val_ae/train/e/S01 attempt 106.jpeg  \n",
      "  inflating: /content/drive/MyDrive/MLA/bin_val_ae/train/e/S01 attempt 107.jpeg  \n",
      "  inflating: /content/drive/MyDrive/MLA/bin_val_ae/train/e/S01 attempt 59.jpeg  \n",
      "  inflating: /content/drive/MyDrive/MLA/bin_val_ae/train/e/S01 attempt 60.jpeg  \n",
      "  inflating: /content/drive/MyDrive/MLA/bin_val_ae/train/e/S01 attempt 61.jpeg  \n",
      "  inflating: /content/drive/MyDrive/MLA/bin_val_ae/train/e/S01 attempt 62.jpeg  \n",
      "  inflating: /content/drive/MyDrive/MLA/bin_val_ae/train/e/S01 attempt 63.jpeg  \n",
      "  inflating: /content/drive/MyDrive/MLA/bin_val_ae/train/e/S01 attempt 64.jpeg  \n",
      "  inflating: /content/drive/MyDrive/MLA/bin_val_ae/train/e/S01 attempt 65.jpeg  \n",
      "  inflating: /content/drive/MyDrive/MLA/bin_val_ae/train/e/S01 attempt 66.jpeg  \n",
      "  inflating: /content/drive/MyDrive/MLA/bin_val_ae/train/e/S01 attempt 67.jpeg  \n",
      "  inflating: /content/drive/MyDrive/MLA/bin_val_ae/train/e/S01 attempt 68.jpeg  \n",
      "  inflating: /content/drive/MyDrive/MLA/bin_val_ae/train/e/S01 attempt 69.jpeg  \n",
      "  inflating: /content/drive/MyDrive/MLA/bin_val_ae/train/e/S01 attempt 70.jpeg  \n",
      "  inflating: /content/drive/MyDrive/MLA/bin_val_ae/train/e/S01 attempt 71.jpeg  \n",
      "  inflating: /content/drive/MyDrive/MLA/bin_val_ae/train/e/S01 attempt 72.jpeg  \n",
      "  inflating: /content/drive/MyDrive/MLA/bin_val_ae/train/e/S01 attempt 73.jpeg  \n",
      "  inflating: /content/drive/MyDrive/MLA/bin_val_ae/train/e/S01 attempt 74.jpeg  \n",
      "  inflating: /content/drive/MyDrive/MLA/bin_val_ae/train/e/S01 attempt 75.jpeg  \n",
      "  inflating: /content/drive/MyDrive/MLA/bin_val_ae/train/e/S01 attempt 76.jpeg  \n",
      "  inflating: /content/drive/MyDrive/MLA/bin_val_ae/train/e/S01 attempt 77.jpeg  \n",
      "  inflating: /content/drive/MyDrive/MLA/bin_val_ae/train/e/S01 attempt 78.jpeg  \n",
      "  inflating: /content/drive/MyDrive/MLA/bin_val_ae/train/e/S01 attempt 79.jpeg  \n",
      "  inflating: /content/drive/MyDrive/MLA/bin_val_ae/train/e/S01 attempt 80.jpeg  \n",
      "  inflating: /content/drive/MyDrive/MLA/bin_val_ae/train/e/S01 attempt 81.jpeg  \n",
      "  inflating: /content/drive/MyDrive/MLA/bin_val_ae/train/e/S01 attempt 82.jpeg  \n",
      "  inflating: /content/drive/MyDrive/MLA/bin_val_ae/train/e/S01 attempt 83.jpeg  \n",
      "  inflating: /content/drive/MyDrive/MLA/bin_val_ae/train/e/S01 attempt 84.jpeg  \n",
      "  inflating: /content/drive/MyDrive/MLA/bin_val_ae/train/e/S01 attempt 85.jpeg  \n",
      "  inflating: /content/drive/MyDrive/MLA/bin_val_ae/train/e/S01 attempt 86.jpeg  \n",
      "  inflating: /content/drive/MyDrive/MLA/bin_val_ae/train/e/S01 attempt 87.jpeg  \n",
      "  inflating: /content/drive/MyDrive/MLA/bin_val_ae/train/e/S01 attempt 88.jpeg  \n",
      "  inflating: /content/drive/MyDrive/MLA/bin_val_ae/train/e/S01 attempt 89.jpeg  \n",
      "  inflating: /content/drive/MyDrive/MLA/bin_val_ae/train/e/S01 attempt 90.jpeg  \n",
      "  inflating: /content/drive/MyDrive/MLA/bin_val_ae/train/e/S01 attempt 91.jpeg  \n",
      "  inflating: /content/drive/MyDrive/MLA/bin_val_ae/train/e/S01 attempt 92.jpeg  \n",
      "  inflating: /content/drive/MyDrive/MLA/bin_val_ae/train/e/S01 attempt 93.jpeg  \n",
      "  inflating: /content/drive/MyDrive/MLA/bin_val_ae/train/e/S01 attempt 94.jpeg  \n",
      "  inflating: /content/drive/MyDrive/MLA/bin_val_ae/train/e/S01 attempt 95.jpeg  \n",
      "  inflating: /content/drive/MyDrive/MLA/bin_val_ae/train/e/S01 attempt 96.jpeg  \n",
      "  inflating: /content/drive/MyDrive/MLA/bin_val_ae/train/e/S01 attempt 97.jpeg  \n",
      "  inflating: /content/drive/MyDrive/MLA/bin_val_ae/train/e/S01 attempt 98.jpeg  \n",
      "  inflating: /content/drive/MyDrive/MLA/bin_val_ae/train/e/S01 attempt 99.jpeg  \n",
      "   creating: /content/drive/MyDrive/MLA/bin_val_ae/validate/\n",
      "   creating: /content/drive/MyDrive/MLA/bin_val_ae/validate/a/\n",
      "  inflating: /content/drive/MyDrive/MLA/bin_val_ae/validate/a/S01 attempt 50.jpeg  \n",
      "  inflating: /content/drive/MyDrive/MLA/bin_val_ae/validate/a/S01 attempt 51.jpeg  \n",
      "  inflating: /content/drive/MyDrive/MLA/bin_val_ae/validate/a/S01 attempt 52.jpeg  \n",
      "  inflating: /content/drive/MyDrive/MLA/bin_val_ae/validate/a/S01 attempt 53.jpeg  \n",
      "  inflating: /content/drive/MyDrive/MLA/bin_val_ae/validate/a/S01 attempt 54.jpeg  \n",
      "  inflating: /content/drive/MyDrive/MLA/bin_val_ae/validate/a/S01 attempt 55.jpeg  \n",
      "   creating: /content/drive/MyDrive/MLA/bin_val_ae/validate/e/\n",
      "  inflating: /content/drive/MyDrive/MLA/bin_val_ae/validate/e/S01 attempt 118.jpeg  \n",
      "  inflating: /content/drive/MyDrive/MLA/bin_val_ae/validate/e/S01 attempt 119.jpeg  \n",
      "  inflating: /content/drive/MyDrive/MLA/bin_val_ae/validate/e/S01 attempt 120.jpeg  \n",
      "  inflating: /content/drive/MyDrive/MLA/bin_val_ae/validate/e/S01 attempt 121.jpeg  \n",
      "  inflating: /content/drive/MyDrive/MLA/bin_val_ae/validate/e/S01 attempt 122.jpeg  \n"
     ]
    }
   ],
   "source": [
    "!unzip /content/drive/MyDrive/MLA/bin_val_ae.zip -d /content/drive/MyDrive/MLA"
   ]
  },
  {
   "cell_type": "code",
   "execution_count": null,
   "metadata": {
    "colab": {
     "base_uri": "https://localhost:8080/"
    },
    "id": "WESFhgM9v0wm",
    "outputId": "e766efd8-b69a-4f5a-ea12-56d09b0f48a5"
   },
   "outputs": [
    {
     "name": "stdout",
     "output_type": "stream",
     "text": [
      "Found 88 images belonging to 2 classes.\n",
      "Found 21 images belonging to 2 classes.\n",
      "Found 11 images belonging to 2 classes.\n"
     ]
    }
   ],
   "source": [
    "train_path=\"/content/drive/MyDrive/MLA/bin_val_ae/train\"\n",
    "test_path=\"/content/drive/MyDrive/MLA/bin_val_ae/test\"\n",
    "val_path=\"/content/drive/MyDrive/MLA/bin_val_ae/validate\"\n",
    "\n",
    "\n",
    "\n",
    "x_train=[]\n",
    "for folder in os.listdir(train_path):\n",
    "    sub_path=train_path+\"/\"+folder\n",
    "    for img in os.listdir(sub_path):\n",
    "        image_path=sub_path+\"/\"+img\n",
    "        img_arr=cv2.imread(image_path)\n",
    "        img_arr=cv2.resize(img_arr,(227, 227))\n",
    "        x_train.append(img_arr)\n",
    "x_test=[]\n",
    "for folder in os.listdir(test_path):\n",
    "    sub_path=test_path+\"/\"+folder\n",
    "    for img in os.listdir(sub_path):\n",
    "        image_path=sub_path+\"/\"+img\n",
    "        img_arr=cv2.imread(image_path)\n",
    "        img_arr=cv2.resize(img_arr,(227, 227))\n",
    "        x_test.append(img_arr)\n",
    "x_val=[]\n",
    "for folder in os.listdir(val_path):\n",
    "    sub_path=val_path+\"/\"+folder\n",
    "    for img in os.listdir(sub_path):\n",
    "        image_path=sub_path+\"/\"+img\n",
    "        img_arr=cv2.imread(image_path)\n",
    "        img_arr=cv2.resize(img_arr,(227, 227))\n",
    "        x_val.append(img_arr)\n",
    "\n",
    "\n",
    "\n",
    "\n",
    "\n",
    "train_x=np.array(x_train)\n",
    "test_x=np.array(x_test)\n",
    "val_x=np.array(x_val)\n",
    "\n",
    "\n",
    "train_x=train_x/255.0\n",
    "test_x=test_x/255.0\n",
    "val_x=val_x/255.0\n",
    "\n",
    "train_datagen = ImageDataGenerator(rescale = 1./255)\n",
    "test_datagen = ImageDataGenerator(rescale = 1./255)\n",
    "val_datagen = ImageDataGenerator(rescale = 1./255)\n",
    "\n",
    "\n",
    "\n",
    "training_set = train_datagen.flow_from_directory(train_path,\n",
    "                                                 target_size = (227, 227),\n",
    "                                                 batch_size = 32,\n",
    "                                                 class_mode = 'binary')\n",
    "test_set = test_datagen.flow_from_directory(test_path,\n",
    "                                            target_size = (227, 227),\n",
    "                                            batch_size = 32,\n",
    "                                            class_mode = 'binary')\n",
    "val_set = val_datagen.flow_from_directory(val_path,\n",
    "                                            target_size = (227, 227),\n",
    "                                            batch_size = 32,\n",
    "                                            class_mode = 'binary')\n",
    "train_y=training_set.classes\n",
    "test_y=test_set.classes\n",
    "val_y=val_set.classes"
   ]
  },
  {
   "cell_type": "code",
   "execution_count": null,
   "metadata": {
    "colab": {
     "base_uri": "https://localhost:8080/"
    },
    "id": "e4fCaqV_wXlD",
    "outputId": "a02eca30-18f0-4e2d-bd76-4e7052281f77"
   },
   "outputs": [
    {
     "name": "stdout",
     "output_type": "stream",
     "text": [
      "Model: \"sequential_6\"\n",
      "_________________________________________________________________\n",
      " Layer (type)                Output Shape              Param #   \n",
      "=================================================================\n",
      " conv2d_30 (Conv2D)          (None, 55, 55, 96)        34944     \n",
      "                                                                 \n",
      " batch_normalization_30 (Bat  (None, 55, 55, 96)       384       \n",
      " chNormalization)                                                \n",
      "                                                                 \n",
      " max_pooling2d_18 (MaxPoolin  (None, 27, 27, 96)       0         \n",
      " g2D)                                                            \n",
      "                                                                 \n",
      " conv2d_31 (Conv2D)          (None, 27, 27, 256)       614656    \n",
      "                                                                 \n",
      " batch_normalization_31 (Bat  (None, 27, 27, 256)      1024      \n",
      " chNormalization)                                                \n",
      "                                                                 \n",
      " max_pooling2d_19 (MaxPoolin  (None, 13, 13, 256)      0         \n",
      " g2D)                                                            \n",
      "                                                                 \n",
      " conv2d_32 (Conv2D)          (None, 13, 13, 384)       885120    \n",
      "                                                                 \n",
      " batch_normalization_32 (Bat  (None, 13, 13, 384)      1536      \n",
      " chNormalization)                                                \n",
      "                                                                 \n",
      " conv2d_33 (Conv2D)          (None, 13, 13, 384)       1327488   \n",
      "                                                                 \n",
      " batch_normalization_33 (Bat  (None, 13, 13, 384)      1536      \n",
      " chNormalization)                                                \n",
      "                                                                 \n",
      " conv2d_34 (Conv2D)          (None, 13, 13, 256)       884992    \n",
      "                                                                 \n",
      " batch_normalization_34 (Bat  (None, 13, 13, 256)      1024      \n",
      " chNormalization)                                                \n",
      "                                                                 \n",
      " max_pooling2d_20 (MaxPoolin  (None, 6, 6, 256)        0         \n",
      " g2D)                                                            \n",
      "                                                                 \n",
      " flatten_6 (Flatten)         (None, 9216)              0         \n",
      "                                                                 \n",
      " dense_18 (Dense)            (None, 4096)              37752832  \n",
      "                                                                 \n",
      " dropout_12 (Dropout)        (None, 4096)              0         \n",
      "                                                                 \n",
      " dense_19 (Dense)            (None, 4096)              16781312  \n",
      "                                                                 \n",
      " dropout_13 (Dropout)        (None, 4096)              0         \n",
      "                                                                 \n",
      " dense_20 (Dense)            (None, 1)                 4097      \n",
      "                                                                 \n",
      "=================================================================\n",
      "Total params: 58,290,945\n",
      "Trainable params: 58,288,193\n",
      "Non-trainable params: 2,752\n",
      "_________________________________________________________________\n"
     ]
    },
    {
     "name": "stderr",
     "output_type": "stream",
     "text": [
      "/usr/local/lib/python3.7/dist-packages/keras/optimizer_v2/rmsprop.py:130: UserWarning: The `lr` argument is deprecated, use `learning_rate` instead.\n",
      "  super(RMSprop, self).__init__(name, **kwargs)\n"
     ]
    }
   ],
   "source": [
    "from tensorflow import keras\n",
    "import tensorflow as tf\n",
    "model_alex_Net = keras.models.Sequential([\n",
    "    keras.layers.Conv2D(filters=96, kernel_size=(11,11), strides=(4,4), activation='relu', input_shape=(227,227,3)),\n",
    "    keras.layers.BatchNormalization(),\n",
    "    keras.layers.MaxPool2D(pool_size=(3,3), strides=(2,2)),\n",
    "    keras.layers.Conv2D(filters=256, kernel_size=(5,5), strides=(1,1), activation='relu', padding=\"same\"),\n",
    "    keras.layers.BatchNormalization(),\n",
    "    keras.layers.MaxPool2D(pool_size=(3,3), strides=(2,2)),\n",
    "    keras.layers.Conv2D(filters=384, kernel_size=(3,3), strides=(1,1), activation='relu', padding=\"same\"),\n",
    "    keras.layers.BatchNormalization(),\n",
    "    keras.layers.Conv2D(filters=384, kernel_size=(3,3), strides=(1,1), activation='relu', padding=\"same\"),\n",
    "    keras.layers.BatchNormalization(),\n",
    "    keras.layers.Conv2D(filters=256, kernel_size=(3,3), strides=(1,1), activation='relu', padding=\"same\"),\n",
    "    keras.layers.BatchNormalization(),\n",
    "    keras.layers.MaxPool2D(pool_size=(3,3), strides=(2,2)),\n",
    "    keras.layers.Flatten(),\n",
    "    keras.layers.Dense(4096, activation='relu'),\n",
    "    keras.layers.Dropout(0.5),\n",
    "    keras.layers.Dense(4096, activation='relu'),\n",
    "    keras.layers.Dropout(0.5),\n",
    "    keras.layers.Dense(1, activation='softmax')\n",
    "])\n",
    "\n",
    "from tensorflow.keras import optimizers\n",
    "model_alex_Net.compile(loss='binary_crossentropy', optimizer=optimizers.RMSprop(lr=1e-4), metrics=['accuracy'])\n",
    "model_alex_Net.summary()\n"
   ]
  },
  {
   "cell_type": "code",
   "execution_count": null,
   "metadata": {
    "colab": {
     "base_uri": "https://localhost:8080/"
    },
    "id": "646OAY7SyBgv",
    "outputId": "28d468ee-25c3-4f38-b3f9-28d65764a55f"
   },
   "outputs": [
    {
     "name": "stdout",
     "output_type": "stream",
     "text": [
      "Epoch 1/100\n",
      "3/3 [==============================] - 13s 308ms/step - loss: 17.3881 - accuracy: 0.5568 - val_loss: 0.6902 - val_accuracy: 0.4545\n",
      "Epoch 2/100\n",
      "3/3 [==============================] - 0s 54ms/step - loss: 7.0311 - accuracy: 0.5568 - val_loss: 0.7000 - val_accuracy: 0.4545\n",
      "Epoch 3/100\n",
      "3/3 [==============================] - 0s 57ms/step - loss: 4.7765 - accuracy: 0.5568 - val_loss: 0.6959 - val_accuracy: 0.4545\n",
      "Epoch 4/100\n",
      "3/3 [==============================] - 0s 55ms/step - loss: 4.1242 - accuracy: 0.5568 - val_loss: 0.7000 - val_accuracy: 0.4545\n",
      "Epoch 5/100\n",
      "3/3 [==============================] - 0s 57ms/step - loss: 1.6525 - accuracy: 0.5568 - val_loss: 0.6974 - val_accuracy: 0.4545\n",
      "Epoch 6/100\n",
      "3/3 [==============================] - 0s 53ms/step - loss: 1.8888 - accuracy: 0.5568 - val_loss: 0.7045 - val_accuracy: 0.4545\n",
      "Epoch 7/100\n",
      "3/3 [==============================] - 0s 57ms/step - loss: 1.5227 - accuracy: 0.5568 - val_loss: 0.7029 - val_accuracy: 0.4545\n",
      "Epoch 8/100\n",
      "3/3 [==============================] - 0s 53ms/step - loss: 1.9161 - accuracy: 0.5568 - val_loss: 0.7114 - val_accuracy: 0.4545\n",
      "Epoch 9/100\n",
      "3/3 [==============================] - 0s 54ms/step - loss: 2.1256 - accuracy: 0.5568 - val_loss: 0.7078 - val_accuracy: 0.4545\n",
      "Epoch 10/100\n",
      "3/3 [==============================] - 0s 52ms/step - loss: 1.3352 - accuracy: 0.5568 - val_loss: 0.7173 - val_accuracy: 0.4545\n",
      "Epoch 11/100\n",
      "3/3 [==============================] - 0s 55ms/step - loss: 0.9327 - accuracy: 0.5568 - val_loss: 0.7183 - val_accuracy: 0.4545\n",
      "Epoch 12/100\n",
      "3/3 [==============================] - 0s 56ms/step - loss: 1.2054 - accuracy: 0.5568 - val_loss: 0.7140 - val_accuracy: 0.4545\n",
      "Epoch 13/100\n",
      "3/3 [==============================] - 0s 55ms/step - loss: 1.3078 - accuracy: 0.5568 - val_loss: 0.7258 - val_accuracy: 0.4545\n",
      "Epoch 14/100\n",
      "3/3 [==============================] - 0s 54ms/step - loss: 1.7449 - accuracy: 0.5568 - val_loss: 0.7147 - val_accuracy: 0.4545\n",
      "Epoch 15/100\n",
      "3/3 [==============================] - 0s 63ms/step - loss: 0.7671 - accuracy: 0.5568 - val_loss: 0.7200 - val_accuracy: 0.4545\n",
      "Epoch 16/100\n",
      "3/3 [==============================] - 0s 54ms/step - loss: 0.8300 - accuracy: 0.5568 - val_loss: 0.7196 - val_accuracy: 0.4545\n",
      "Epoch 17/100\n",
      "3/3 [==============================] - 0s 54ms/step - loss: 1.8664 - accuracy: 0.5568 - val_loss: 0.7303 - val_accuracy: 0.4545\n",
      "Epoch 18/100\n",
      "3/3 [==============================] - 0s 55ms/step - loss: 1.4343 - accuracy: 0.5568 - val_loss: 0.7194 - val_accuracy: 0.4545\n",
      "Epoch 19/100\n",
      "3/3 [==============================] - 0s 55ms/step - loss: 1.1042 - accuracy: 0.5568 - val_loss: 0.7290 - val_accuracy: 0.4545\n",
      "Epoch 20/100\n",
      "3/3 [==============================] - 0s 57ms/step - loss: 0.8760 - accuracy: 0.5568 - val_loss: 0.7325 - val_accuracy: 0.4545\n",
      "Epoch 21/100\n",
      "3/3 [==============================] - 0s 53ms/step - loss: 0.8870 - accuracy: 0.5568 - val_loss: 0.7470 - val_accuracy: 0.4545\n",
      "Epoch 22/100\n",
      "3/3 [==============================] - 0s 56ms/step - loss: 1.6964 - accuracy: 0.5568 - val_loss: 0.7340 - val_accuracy: 0.4545\n",
      "Epoch 23/100\n",
      "3/3 [==============================] - 0s 55ms/step - loss: 1.4195 - accuracy: 0.5568 - val_loss: 0.7457 - val_accuracy: 0.4545\n",
      "Epoch 24/100\n",
      "3/3 [==============================] - 0s 54ms/step - loss: 1.0934 - accuracy: 0.5568 - val_loss: 0.7211 - val_accuracy: 0.4545\n",
      "Epoch 25/100\n",
      "3/3 [==============================] - 0s 51ms/step - loss: 1.0461 - accuracy: 0.5568 - val_loss: 0.7495 - val_accuracy: 0.4545\n",
      "Epoch 26/100\n",
      "3/3 [==============================] - 0s 54ms/step - loss: 1.1596 - accuracy: 0.5568 - val_loss: 0.7381 - val_accuracy: 0.4545\n",
      "Epoch 27/100\n",
      "3/3 [==============================] - 0s 56ms/step - loss: 0.9518 - accuracy: 0.5568 - val_loss: 0.7507 - val_accuracy: 0.4545\n",
      "Epoch 28/100\n",
      "3/3 [==============================] - 0s 57ms/step - loss: 0.9757 - accuracy: 0.5568 - val_loss: 0.7580 - val_accuracy: 0.4545\n",
      "Epoch 29/100\n",
      "3/3 [==============================] - 0s 54ms/step - loss: 1.4632 - accuracy: 0.5568 - val_loss: 0.7354 - val_accuracy: 0.4545\n",
      "Epoch 30/100\n",
      "3/3 [==============================] - 0s 54ms/step - loss: 1.2592 - accuracy: 0.5568 - val_loss: 0.7448 - val_accuracy: 0.4545\n",
      "Epoch 31/100\n",
      "3/3 [==============================] - 0s 55ms/step - loss: 1.1868 - accuracy: 0.5568 - val_loss: 0.7282 - val_accuracy: 0.4545\n",
      "Epoch 32/100\n",
      "3/3 [==============================] - 0s 54ms/step - loss: 0.9390 - accuracy: 0.5568 - val_loss: 0.7414 - val_accuracy: 0.4545\n",
      "Epoch 33/100\n",
      "3/3 [==============================] - 0s 58ms/step - loss: 0.8675 - accuracy: 0.5568 - val_loss: 0.7671 - val_accuracy: 0.4545\n",
      "Epoch 34/100\n",
      "3/3 [==============================] - 0s 53ms/step - loss: 0.9759 - accuracy: 0.5568 - val_loss: 0.7435 - val_accuracy: 0.4545\n",
      "Epoch 35/100\n",
      "3/3 [==============================] - 0s 55ms/step - loss: 1.2440 - accuracy: 0.5568 - val_loss: 0.7724 - val_accuracy: 0.4545\n",
      "Epoch 36/100\n",
      "3/3 [==============================] - 0s 54ms/step - loss: 1.0746 - accuracy: 0.5568 - val_loss: 0.7516 - val_accuracy: 0.4545\n",
      "Epoch 37/100\n",
      "3/3 [==============================] - 0s 57ms/step - loss: 0.8542 - accuracy: 0.5568 - val_loss: 0.7496 - val_accuracy: 0.4545\n",
      "Epoch 38/100\n",
      "3/3 [==============================] - 0s 55ms/step - loss: 0.8147 - accuracy: 0.5568 - val_loss: 0.7663 - val_accuracy: 0.4545\n",
      "Epoch 39/100\n",
      "3/3 [==============================] - 0s 54ms/step - loss: 1.0970 - accuracy: 0.5568 - val_loss: 0.7304 - val_accuracy: 0.4545\n",
      "Epoch 40/100\n",
      "3/3 [==============================] - 0s 53ms/step - loss: 0.7719 - accuracy: 0.5568 - val_loss: 0.7179 - val_accuracy: 0.4545\n",
      "Epoch 41/100\n",
      "3/3 [==============================] - 0s 54ms/step - loss: 0.8949 - accuracy: 0.5568 - val_loss: 0.7427 - val_accuracy: 0.4545\n",
      "Epoch 42/100\n",
      "3/3 [==============================] - 0s 55ms/step - loss: 0.6995 - accuracy: 0.5568 - val_loss: 0.7452 - val_accuracy: 0.4545\n",
      "Epoch 43/100\n",
      "3/3 [==============================] - 0s 56ms/step - loss: 0.6883 - accuracy: 0.5568 - val_loss: 0.7322 - val_accuracy: 0.4545\n",
      "Epoch 44/100\n",
      "3/3 [==============================] - 0s 54ms/step - loss: 0.7782 - accuracy: 0.5568 - val_loss: 0.7468 - val_accuracy: 0.4545\n",
      "Epoch 45/100\n",
      "3/3 [==============================] - 0s 55ms/step - loss: 1.2656 - accuracy: 0.5568 - val_loss: 0.7162 - val_accuracy: 0.4545\n",
      "Epoch 46/100\n",
      "3/3 [==============================] - 0s 51ms/step - loss: 0.8852 - accuracy: 0.5568 - val_loss: 0.7882 - val_accuracy: 0.4545\n",
      "Epoch 47/100\n",
      "3/3 [==============================] - 0s 55ms/step - loss: 1.0652 - accuracy: 0.5568 - val_loss: 0.7336 - val_accuracy: 0.4545\n",
      "Epoch 48/100\n",
      "3/3 [==============================] - 0s 56ms/step - loss: 0.7906 - accuracy: 0.5568 - val_loss: 0.8181 - val_accuracy: 0.4545\n",
      "Epoch 49/100\n",
      "3/3 [==============================] - 0s 56ms/step - loss: 0.9701 - accuracy: 0.5568 - val_loss: 0.7222 - val_accuracy: 0.4545\n",
      "Epoch 50/100\n",
      "3/3 [==============================] - 0s 57ms/step - loss: 0.6910 - accuracy: 0.5568 - val_loss: 0.7335 - val_accuracy: 0.4545\n",
      "Epoch 51/100\n",
      "3/3 [==============================] - 0s 55ms/step - loss: 0.8284 - accuracy: 0.5568 - val_loss: 0.7193 - val_accuracy: 0.4545\n",
      "Epoch 52/100\n",
      "3/3 [==============================] - 0s 58ms/step - loss: 1.1137 - accuracy: 0.5568 - val_loss: 0.7665 - val_accuracy: 0.4545\n",
      "Epoch 53/100\n",
      "3/3 [==============================] - 0s 56ms/step - loss: 0.8587 - accuracy: 0.5568 - val_loss: 0.7219 - val_accuracy: 0.4545\n",
      "Epoch 54/100\n",
      "3/3 [==============================] - 0s 53ms/step - loss: 0.8451 - accuracy: 0.5568 - val_loss: 0.7086 - val_accuracy: 0.4545\n",
      "Epoch 55/100\n",
      "3/3 [==============================] - 0s 56ms/step - loss: 0.9796 - accuracy: 0.5568 - val_loss: 0.7684 - val_accuracy: 0.4545\n",
      "Epoch 56/100\n",
      "3/3 [==============================] - 0s 55ms/step - loss: 0.6638 - accuracy: 0.5568 - val_loss: 0.8057 - val_accuracy: 0.4545\n",
      "Epoch 57/100\n",
      "3/3 [==============================] - 0s 55ms/step - loss: 1.1859 - accuracy: 0.5568 - val_loss: 0.7416 - val_accuracy: 0.4545\n",
      "Epoch 58/100\n",
      "3/3 [==============================] - 0s 55ms/step - loss: 0.8400 - accuracy: 0.5568 - val_loss: 0.7929 - val_accuracy: 0.4545\n",
      "Epoch 59/100\n",
      "3/3 [==============================] - 0s 53ms/step - loss: 0.7399 - accuracy: 0.5568 - val_loss: 0.7419 - val_accuracy: 0.4545\n",
      "Epoch 60/100\n",
      "3/3 [==============================] - 0s 53ms/step - loss: 0.7715 - accuracy: 0.5568 - val_loss: 0.7917 - val_accuracy: 0.4545\n",
      "Epoch 61/100\n",
      "3/3 [==============================] - 0s 59ms/step - loss: 0.8124 - accuracy: 0.5568 - val_loss: 0.7439 - val_accuracy: 0.4545\n",
      "Epoch 62/100\n",
      "3/3 [==============================] - 0s 54ms/step - loss: 0.7108 - accuracy: 0.5568 - val_loss: 0.7013 - val_accuracy: 0.4545\n",
      "Epoch 63/100\n",
      "3/3 [==============================] - 0s 55ms/step - loss: 0.9008 - accuracy: 0.5568 - val_loss: 0.7115 - val_accuracy: 0.4545\n",
      "Epoch 64/100\n",
      "3/3 [==============================] - 0s 56ms/step - loss: 0.8210 - accuracy: 0.5568 - val_loss: 0.6870 - val_accuracy: 0.4545\n",
      "Epoch 65/100\n",
      "3/3 [==============================] - 0s 56ms/step - loss: 0.8183 - accuracy: 0.5568 - val_loss: 0.7114 - val_accuracy: 0.4545\n",
      "Epoch 66/100\n",
      "3/3 [==============================] - 0s 54ms/step - loss: 0.6418 - accuracy: 0.5568 - val_loss: 0.7349 - val_accuracy: 0.4545\n",
      "Epoch 67/100\n",
      "3/3 [==============================] - 0s 61ms/step - loss: 1.0398 - accuracy: 0.5568 - val_loss: 0.7333 - val_accuracy: 0.4545\n",
      "Epoch 68/100\n",
      "3/3 [==============================] - 0s 54ms/step - loss: 0.7384 - accuracy: 0.5568 - val_loss: 0.7828 - val_accuracy: 0.4545\n",
      "Epoch 69/100\n",
      "3/3 [==============================] - 0s 55ms/step - loss: 0.6809 - accuracy: 0.5568 - val_loss: 0.7176 - val_accuracy: 0.4545\n",
      "Epoch 70/100\n",
      "3/3 [==============================] - 0s 54ms/step - loss: 0.7672 - accuracy: 0.5568 - val_loss: 0.7752 - val_accuracy: 0.4545\n",
      "Epoch 71/100\n",
      "3/3 [==============================] - 0s 52ms/step - loss: 0.7367 - accuracy: 0.5568 - val_loss: 0.7176 - val_accuracy: 0.4545\n",
      "Epoch 72/100\n",
      "3/3 [==============================] - 0s 55ms/step - loss: 0.7293 - accuracy: 0.5568 - val_loss: 0.8201 - val_accuracy: 0.4545\n",
      "Epoch 73/100\n",
      "3/3 [==============================] - 0s 58ms/step - loss: 0.9363 - accuracy: 0.5568 - val_loss: 0.7625 - val_accuracy: 0.4545\n",
      "Epoch 74/100\n",
      "3/3 [==============================] - 0s 55ms/step - loss: 0.5888 - accuracy: 0.5568 - val_loss: 0.8882 - val_accuracy: 0.4545\n",
      "Epoch 75/100\n",
      "3/3 [==============================] - 0s 54ms/step - loss: 1.0141 - accuracy: 0.5568 - val_loss: 0.7358 - val_accuracy: 0.4545\n",
      "Epoch 76/100\n",
      "3/3 [==============================] - 0s 55ms/step - loss: 0.9485 - accuracy: 0.5568 - val_loss: 0.7419 - val_accuracy: 0.4545\n",
      "Epoch 77/100\n",
      "3/3 [==============================] - 0s 54ms/step - loss: 0.6244 - accuracy: 0.5568 - val_loss: 0.7787 - val_accuracy: 0.4545\n",
      "Epoch 78/100\n",
      "3/3 [==============================] - 0s 57ms/step - loss: 0.6161 - accuracy: 0.5568 - val_loss: 0.8819 - val_accuracy: 0.4545\n",
      "Epoch 79/100\n",
      "3/3 [==============================] - 0s 57ms/step - loss: 0.6974 - accuracy: 0.5568 - val_loss: 0.7384 - val_accuracy: 0.4545\n",
      "Epoch 80/100\n",
      "3/3 [==============================] - 0s 56ms/step - loss: 0.5777 - accuracy: 0.5568 - val_loss: 0.7137 - val_accuracy: 0.4545\n",
      "Epoch 81/100\n",
      "3/3 [==============================] - 0s 54ms/step - loss: 1.0295 - accuracy: 0.5568 - val_loss: 0.8621 - val_accuracy: 0.4545\n",
      "Epoch 82/100\n",
      "3/3 [==============================] - 0s 56ms/step - loss: 0.6199 - accuracy: 0.5568 - val_loss: 0.6901 - val_accuracy: 0.4545\n",
      "Epoch 83/100\n",
      "3/3 [==============================] - 0s 54ms/step - loss: 0.8419 - accuracy: 0.5568 - val_loss: 0.8030 - val_accuracy: 0.4545\n",
      "Epoch 84/100\n",
      "3/3 [==============================] - 0s 56ms/step - loss: 0.6080 - accuracy: 0.5568 - val_loss: 0.8583 - val_accuracy: 0.4545\n",
      "Epoch 85/100\n",
      "3/3 [==============================] - 0s 53ms/step - loss: 0.6134 - accuracy: 0.5568 - val_loss: 0.6739 - val_accuracy: 0.4545\n",
      "Epoch 86/100\n",
      "3/3 [==============================] - 0s 55ms/step - loss: 0.6831 - accuracy: 0.5568 - val_loss: 0.8413 - val_accuracy: 0.4545\n",
      "Epoch 87/100\n",
      "3/3 [==============================] - 0s 58ms/step - loss: 0.4574 - accuracy: 0.5568 - val_loss: 0.6662 - val_accuracy: 0.4545\n",
      "Epoch 88/100\n",
      "3/3 [==============================] - 0s 55ms/step - loss: 1.0125 - accuracy: 0.5568 - val_loss: 0.7939 - val_accuracy: 0.4545\n",
      "Epoch 89/100\n",
      "3/3 [==============================] - 0s 55ms/step - loss: 0.6264 - accuracy: 0.5568 - val_loss: 0.6722 - val_accuracy: 0.4545\n",
      "Epoch 90/100\n",
      "3/3 [==============================] - 0s 55ms/step - loss: 1.0166 - accuracy: 0.5568 - val_loss: 0.8636 - val_accuracy: 0.4545\n",
      "Epoch 91/100\n",
      "3/3 [==============================] - 0s 59ms/step - loss: 0.4163 - accuracy: 0.5568 - val_loss: 0.8019 - val_accuracy: 0.4545\n",
      "Epoch 92/100\n",
      "3/3 [==============================] - 0s 58ms/step - loss: 0.5474 - accuracy: 0.5568 - val_loss: 0.7017 - val_accuracy: 0.4545\n",
      "Epoch 93/100\n",
      "3/3 [==============================] - 0s 54ms/step - loss: 0.7246 - accuracy: 0.5568 - val_loss: 0.8301 - val_accuracy: 0.4545\n",
      "Epoch 94/100\n",
      "3/3 [==============================] - 0s 54ms/step - loss: 0.4060 - accuracy: 0.5568 - val_loss: 0.9134 - val_accuracy: 0.4545\n",
      "Epoch 95/100\n",
      "3/3 [==============================] - 0s 56ms/step - loss: 0.4029 - accuracy: 0.5568 - val_loss: 2.2323 - val_accuracy: 0.4545\n",
      "Epoch 96/100\n",
      "3/3 [==============================] - 0s 54ms/step - loss: 0.5126 - accuracy: 0.5568 - val_loss: 1.0670 - val_accuracy: 0.4545\n",
      "Epoch 97/100\n",
      "3/3 [==============================] - 0s 57ms/step - loss: 0.5403 - accuracy: 0.5568 - val_loss: 0.6872 - val_accuracy: 0.4545\n",
      "Epoch 98/100\n",
      "3/3 [==============================] - 0s 55ms/step - loss: 0.8330 - accuracy: 0.5568 - val_loss: 1.0228 - val_accuracy: 0.4545\n",
      "Epoch 99/100\n",
      "3/3 [==============================] - 0s 59ms/step - loss: 0.1691 - accuracy: 0.5568 - val_loss: 0.6513 - val_accuracy: 0.4545\n",
      "Epoch 100/100\n",
      "3/3 [==============================] - 0s 52ms/step - loss: 0.9266 - accuracy: 0.5568 - val_loss: 1.0191 - val_accuracy: 0.4545\n"
     ]
    }
   ],
   "source": [
    "from tensorflow.keras.callbacks import EarlyStopping\n",
    "import tensorflow as tf\n",
    "early_stop=EarlyStopping(monitor='val_loss',mode='min',verbose=1,patience=10)\n",
    "\n",
    "\n",
    "history = model_alex_Net.fit(\n",
    "  train_x,\n",
    "  train_y,\n",
    "  validation_data=(val_x,val_y),\n",
    "  epochs=100,\n",
    "  batch_size=32,shuffle=True)\n"
   ]
  },
  {
   "cell_type": "code",
   "execution_count": null,
   "metadata": {
    "colab": {
     "base_uri": "https://localhost:8080/",
     "height": 282
    },
    "id": "fO4KVq1nz4sq",
    "outputId": "43393e07-4654-4263-8f9b-56bf551ce0d8"
   },
   "outputs": [
    {
     "data": {
      "text/plain": [
       "<matplotlib.axes._subplots.AxesSubplot at 0x7f5d6e3a3650>"
      ]
     },
     "execution_count": 25,
     "metadata": {},
     "output_type": "execute_result"
    },
    {
     "data": {
      "image/png": "[encoded data removed]",
      "text/plain": [
       "<Figure size 432x288 with 1 Axes>"
      ]
     },
     "metadata": {
      "needs_background": "light"
     },
     "output_type": "display_data"
    }
   ],
   "source": [
    "loss = pd.DataFrame(model_alex_Net.history.history)\n",
    "loss.plot()"
   ]
  },
  {
   "cell_type": "code",
   "execution_count": null,
   "metadata": {
    "id": "Hc7jHrb3QTBT"
   },
   "outputs": [],
   "source": []
  }
 ],
 "metadata": {
  "accelerator": "GPU",
  "colab": {
   "name": "Binary_alex_ae.ipynb",
   "provenance": []
  },
  "kernelspec": {
   "display_name": "Python 3 (ipykernel)",
   "language": "python",
   "name": "python3"
  },
  "language_info": {
   "codemirror_mode": {
    "name": "ipython",
    "version": 3
   },
   "file_extension": ".py",
   "mimetype": "text/x-python",
   "name": "python",
   "nbconvert_exporter": "python",
   "pygments_lexer": "ipython3",
   "version": "3.8.10"
  }
 },
 "nbformat": 4,
 "nbformat_minor": 1
}
